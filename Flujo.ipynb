{
  "nbformat": 4,
  "nbformat_minor": 0,
  "metadata": {
    "colab": {
      "provenance": [],
      "authorship_tag": "ABX9TyNs70QMD4NO0TpGM6vyIdfK",
      "include_colab_link": true
    },
    "kernelspec": {
      "name": "python3",
      "display_name": "Python 3"
    },
    "language_info": {
      "name": "python"
    }
  },
  "cells": [
    {
      "cell_type": "markdown",
      "metadata": {
        "id": "view-in-github",
        "colab_type": "text"
      },
      "source": [
        "<a href=\"https://colab.research.google.com/github/CarlosCordova2023/Flujo_M3_S7_Eva/blob/main/Flujo.ipynb\" target=\"_parent\"><img src=\"https://colab.research.google.com/assets/colab-badge.svg\" alt=\"Open In Colab\"/></a>"
      ]
    },
    {
      "cell_type": "code",
      "execution_count": 1,
      "metadata": {
        "colab": {
          "base_uri": "https://localhost:8080/"
        },
        "id": "7Eotxd6sejJa",
        "outputId": "fcaf8443-91fa-4a3a-f24b-0ed807686368"
      },
      "outputs": [
        {
          "output_type": "stream",
          "name": "stdout",
          "text": [
            "Estudiantes mayores de 18 años con promedio superior a 85:\n",
            "Nombre: María, Edad: 19, Promedio: 90.33333333333333\n",
            "Nombre: Pedro, Edad: 21, Promedio: 86.66666666666667\n",
            "Nombre: Luis, Edad: 20, Promedio: 88.33333333333333\n",
            "\n",
            "Promedio de calificaciones de estudiantes mayores de 18 años y cuya edad es un número primo: 90.33333333333333\n"
          ]
        }
      ],
      "source": [
        "# Lista de estudiantes\n",
        "estudiantes = [\n",
        "    {'nombre': 'Juan', 'edad': 17, 'calificaciones': [85, 90, 88]},\n",
        "    {'nombre': 'María', 'edad': 19, 'calificaciones': [92, 89, 90]},\n",
        "    {'nombre': 'Pedro', 'edad': 21, 'calificaciones': [85, 95, 80]},\n",
        "    {'nombre': 'Ana', 'edad': 18, 'calificaciones': [90, 92, 87]},\n",
        "    {'nombre': 'Luis', 'edad': 20, 'calificaciones': [88, 85, 92]},\n",
        "]\n",
        "\n",
        "\n",
        "def calcular_promedio(calificaciones):\n",
        "    return sum(calificaciones) / len(calificaciones)\n",
        "\n",
        "\n",
        "def es_primo(n):\n",
        "    if n <= 1:\n",
        "        return False\n",
        "    for i in range(2, int(n**0.5) + 1):\n",
        "        if n % i == 0:\n",
        "            return False\n",
        "    return True\n",
        "\n",
        "\n",
        "print(\"Estudiantes mayores de 18 años con promedio superior a 85:\")\n",
        "for estudiante in estudiantes:\n",
        "    if estudiante['edad'] > 18:\n",
        "        promedio = calcular_promedio(estudiante['calificaciones'])\n",
        "        if promedio > 85:\n",
        "            print(f\"Nombre: {estudiante['nombre']}, Edad: {estudiante['edad']}, Promedio: {promedio}\")\n",
        "\n",
        "\n",
        "promedios_primos = []\n",
        "for estudiante in estudiantes:\n",
        "    if estudiante['edad'] > 18 and es_primo(estudiante['edad']):\n",
        "        promedio = calcular_promedio(estudiante['calificaciones'])\n",
        "        promedios_primos.append(promedio)\n",
        "\n",
        "if promedios_primos:\n",
        "    promedio_general = sum(promedios_primos) / len(promedios_primos)\n",
        "    print(f\"\\nPromedio de calificaciones de estudiantes mayores de 18 años y cuya edad es un número primo: {promedio_general}\")\n",
        "else:\n",
        "    print(\"\\nNo hay estudiantes mayores de 18 años cuya edad sea un número primo.\")\n"
      ]
    }
  ]
}